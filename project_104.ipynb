{
  "nbformat": 4,
  "nbformat_minor": 0,
  "metadata": {
    "colab": {
      "name": "project 104",
      "provenance": []
    },
    "kernelspec": {
      "name": "python3",
      "display_name": "Python 3"
    },
    "language_info": {
      "name": "python"
    }
  },
  "cells": [
    {
      "cell_type": "code",
      "execution_count": 11,
      "metadata": {
        "colab": {
          "base_uri": "https://localhost:8080/",
          "height": 235
        },
        "id": "nyZCtQrPcIGY",
        "outputId": "e1241104-11c4-4399-d40b-fe960ebbd4c6"
      },
      "outputs": [
        {
          "output_type": "error",
          "ename": "FileNotFoundError",
          "evalue": "ignored",
          "traceback": [
            "\u001b[0;31m---------------------------------------------------------------------------\u001b[0m",
            "\u001b[0;31mFileNotFoundError\u001b[0m                         Traceback (most recent call last)",
            "\u001b[0;32m<ipython-input-11-70dab6efc18f>\u001b[0m in \u001b[0;36m<module>\u001b[0;34m()\u001b[0m\n\u001b[1;32m      1\u001b[0m \u001b[0;32mimport\u001b[0m \u001b[0mcsv\u001b[0m\u001b[0;34m\u001b[0m\u001b[0;34m\u001b[0m\u001b[0m\n\u001b[1;32m      2\u001b[0m \u001b[0;34m\u001b[0m\u001b[0m\n\u001b[0;32m----> 3\u001b[0;31m \u001b[0;32mwith\u001b[0m \u001b[0mopen\u001b[0m\u001b[0;34m(\u001b[0m\u001b[0;34m\"SOCR-HeightWeight.csv\"\u001b[0m\u001b[0;34m,\u001b[0m \u001b[0mnewline\u001b[0m \u001b[0;34m=\u001b[0m \u001b[0;34m\"\"\u001b[0m\u001b[0;34m)\u001b[0m \u001b[0;32mas\u001b[0m \u001b[0mf\u001b[0m\u001b[0;34m:\u001b[0m\u001b[0;34m\u001b[0m\u001b[0;34m\u001b[0m\u001b[0m\n\u001b[0m\u001b[1;32m      4\u001b[0m \u001b[0;34m\u001b[0m\u001b[0m\n\u001b[1;32m      5\u001b[0m   \u001b[0mreader\u001b[0m \u001b[0;34m=\u001b[0m \u001b[0mcsv\u001b[0m\u001b[0;34m.\u001b[0m\u001b[0mreader\u001b[0m\u001b[0;34m(\u001b[0m\u001b[0mf\u001b[0m\u001b[0;34m)\u001b[0m\u001b[0;34m\u001b[0m\u001b[0;34m\u001b[0m\u001b[0m\n",
            "\u001b[0;31mFileNotFoundError\u001b[0m: [Errno 2] No such file or directory: 'SOCR-HeightWeight.csv'"
          ]
        }
      ],
      "source": [
        "import csv\n",
        "\n",
        "with open(\"SOCR-HeightWeight.csv\", newline = \"\") as f:\n",
        "\n",
        "  reader = csv.reader(f)\n",
        "\n",
        "file_data= list (reader)\n",
        "\n",
        "file_data.pop(0)\n",
        "\n",
        "#Sorting data to get the height of the people.\n",
        "\n",
        "new_data = U\n",
        "\n",
        "for i in range (len (file_data)): n_num= file_data[i][1]\n",
        "\n",
        "new_data.append(float(n_num))\n",
        "\n",
        "#Getting the mean\n",
        "\n",
        "n=len(new_data)\n",
        "\n",
        "total = 0\n",
        "\n",
        "for x in new_data:\n",
        "  total += x\n"
      ]
    }
  ]
}